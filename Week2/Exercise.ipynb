{
 "cells": [
  {
   "cell_type": "markdown",
   "metadata": {},
   "source": [
    "# Problem 1: Write a function thats input is a number and output is:\n",
    "* Return True if the input number is even.\n",
    "* Return False if the input number is odd."
   ]
  },
  {
   "cell_type": "code",
   "execution_count": 57,
   "metadata": {},
   "outputs": [
    {
     "name": "stdout",
     "output_type": "stream",
     "text": [
      "Is -3 even? False\n",
      "Is -2 even? True\n",
      "Is -1 even? False\n",
      "Is 0 even? True\n",
      "Is 1 even? False\n",
      "Is 2 even? True\n",
      "Is 3 even? False\n"
     ]
    }
   ],
   "source": [
    "# Solve problem 1 here\n",
    "def even_or_odd(number):\n",
    "    return number % 2 == 0\n",
    "\n",
    "for number in range(-3,4):\n",
    "    print(f\"Is {number} even? {even_or_odd(number)}\")"
   ]
  },
  {
   "cell_type": "markdown",
   "metadata": {},
   "source": [
    "# Problem 2: Find the sum and the average of this list of numbers.\n",
    "\n",
    "Try doing this using a loop.  Then try doing this without using a loop. "
   ]
  },
  {
   "cell_type": "code",
   "execution_count": 46,
   "metadata": {},
   "outputs": [
    {
     "name": "stdout",
     "output_type": "stream",
     "text": [
      "353 35.3\n",
      "353 35.3\n"
     ]
    }
   ],
   "source": [
    "# Solve problem 2 here:\n",
    "\n",
    "my_list = [1, 5, 10, 55, 88, 44, 42, 50, 20, 38]\n",
    "list_sum = 0\n",
    "list_avg = -1\n",
    "\n",
    "#using a loop\n",
    "for number in my_list:\n",
    "    list_sum += number\n",
    "list_average = list_sum / len(my_list)\n",
    "print(list_sum, list_average)\n",
    "\n",
    "#without a loop\n",
    "list_sum = sum(my_list)\n",
    "list_average = list_sum / len(my_list)\n",
    "\n",
    "# Keep this as your last line in this cell.\n",
    "print(list_sum, list_average)"
   ]
  },
  {
   "cell_type": "markdown",
   "metadata": {},
   "source": [
    "# Problem 3:  Using a dictionary, count the words in this sentence. \n",
    "* Hint, you can use `.split()` to split a string into a list. "
   ]
  },
  {
   "cell_type": "code",
   "execution_count": 52,
   "metadata": {},
   "outputs": [
    {
     "name": "stdout",
     "output_type": "stream",
     "text": [
      "The len of my_dict: 48\n",
      "The contents of my dict:\n",
      "    the : 5\n",
      "    oklahoma : 4\n",
      "    city : 2\n",
      "    zoo : 4\n",
      "    and : 6\n",
      "    botanical : 2\n",
      "    garden : 2\n",
      "    is : 4\n",
      "    a : 1\n",
      "    located : 1\n",
      "    in : 2\n",
      "    city's : 1\n",
      "    adventure : 1\n",
      "    district : 1\n",
      "    northeast : 1\n",
      "    city, : 1\n",
      "    oklahoma. : 1\n",
      "    covers : 1\n",
      "    119 : 1\n",
      "    acres : 1\n",
      "    (48 : 1\n",
      "    ha) : 1\n",
      "    home : 1\n",
      "    to : 1\n",
      "    more : 1\n",
      "    than : 1\n",
      "    1,900 : 1\n",
      "    animals. : 1\n",
      "    it : 1\n",
      "    open : 1\n",
      "    every : 1\n",
      "    day : 1\n",
      "    except : 1\n",
      "    thanksgiving, : 1\n",
      "    christmas, : 1\n",
      "    new : 1\n",
      "    year's : 1\n",
      "    day. : 1\n",
      "    an : 1\n",
      "    accredited : 1\n",
      "    member : 1\n",
      "    of : 3\n",
      "    association : 1\n",
      "    zoos : 1\n",
      "    aquariums : 1\n",
      "    american : 1\n",
      "    alliance : 1\n",
      "    museums. : 1\n"
     ]
    }
   ],
   "source": [
    "# Solve problem 3 here:\n",
    "\n",
    "my_string = '''The Oklahoma City Zoo and Botanical Garden is a zoo and botanical garden located in Oklahoma City's Adventure District in northeast Oklahoma City, Oklahoma. The zoo covers 119 acres (48 ha) and is home to more than 1,900 animals. It is open every day except Thanksgiving, Christmas, and New Year's Day. The Oklahoma City Zoo is an accredited member of the Association of Zoos and Aquariums and the American Alliance of Museums.'''\n",
    "my_dict = {}\n",
    "for word in my_string.lower().split():\n",
    "    if word in my_dict:\n",
    "        my_dict[word] += 1\n",
    "    else:\n",
    "        my_dict[word] = 1\n",
    "\n",
    "print(f\"The len of my_dict: {len(my_dict)}\")\n",
    "print(\"The contents of my dict:\")\n",
    "for word in my_dict:\n",
    "    print(f\"    {word} : {my_dict[word]}\")\n"
   ]
  },
  {
   "cell_type": "markdown",
   "metadata": {},
   "source": [
    "# Problem 4: Write a function that input is a number and output returns the following\n",
    "* If the input is divisible by three, return 'fizz'\n",
    "* If the input is divisible by five, return 'buzz'\n",
    "* If the input is divisible by three and by five, return 'fizzbuzz'\n",
    "* If the input is not divisible by three or five, return None."
   ]
  },
  {
   "cell_type": "code",
   "execution_count": 59,
   "metadata": {},
   "outputs": [
    {
     "name": "stdout",
     "output_type": "stream",
     "text": [
      "2 returns None\n",
      "3 returns fizz\n",
      "5 returns buzz\n",
      "15 returns fizzbuzz\n",
      "18 returns fizz\n",
      "20 returns buzz\n"
     ]
    }
   ],
   "source": [
    "# Solve Problem 4 here:\n",
    "def fizz_buzz(number):\n",
    "    if number % 3 == 0:\n",
    "        if number % 5 == 0:\n",
    "            return 'fizzbuzz'\n",
    "        else: \n",
    "            return 'fizz'\n",
    "    elif number % 5 == 0:\n",
    "        return 'buzz'\n",
    "    else: \n",
    "        return None\n",
    "\n",
    "for number in [2,3,5,15,18,20]:\n",
    "    print(f\"{number} returns {fizz_buzz(number)}\")"
   ]
  },
  {
   "cell_type": "markdown",
   "metadata": {},
   "source": [
    "# Problem 5: \n",
    "Write a function that takes a list and returns a new list that contains all the elements of the first list minus all the duplicates.\n",
    "\n",
    "Example input and expected output\n",
    "\n",
    "input = [\"Michele\", \"Robin\", \"Sara\", \"Michele\"]\n",
    "\n",
    "expected output = ['Michele', 'Robin', 'Sara']\n"
   ]
  },
  {
   "cell_type": "code",
   "execution_count": 1,
   "metadata": {},
   "outputs": [
    {
     "name": "stdout",
     "output_type": "stream",
     "text": [
      "['Robin', 'Michele', 'Sara']\n"
     ]
    }
   ],
   "source": [
    "# Solve problem 5 here:\n",
    "\n",
    "names = [\"Michele\", \"Robin\", \"Sara\", \"Michele\"]\n",
    "\n",
    "def remove_duplicate(names_list):\n",
    "    name_set = set(names_list)\n",
    "    new_list = list(name_set)\n",
    "    return new_list\n",
    "\n",
    "print(remove_duplicate(names))"
   ]
  },
  {
   "cell_type": "markdown",
   "metadata": {},
   "source": [
    "# Problem 6: \n",
    "Write a function that takes a list of numbers (for example, a = [5, 10, 15, 20, 25]) and returns a new list of only the first and last elements of the given list.\n",
    "\n",
    "Example input and expected output:\n",
    "\n",
    "input = [5, 10, 15, 20, 25]\n",
    "\n",
    "expected output = [5, 25]"
   ]
  },
  {
   "cell_type": "code",
   "execution_count": 50,
   "metadata": {},
   "outputs": [
    {
     "name": "stdout",
     "output_type": "stream",
     "text": [
      "[5, 25]\n"
     ]
    }
   ],
   "source": [
    "# Solve problem 6 here:\n",
    "\n",
    "input_list = [5, 10, 99, 20, 25]\n",
    "\n",
    "def first_last(input_list):\n",
    "    output_list = [input_list[0], input_list[-1]]\n",
    "    return output_list\n",
    "\n",
    "print(first_last(input_list))"
   ]
  },
  {
   "cell_type": "markdown",
   "metadata": {},
   "source": [
    "# Problem 7:  Implement a function that takes as input three variables, and returns the largest of the three. \n",
    "Do this without using the Python max() function! \n",
    "_*Note all three input numbers will always be different, no need to account for a tie._\n",
    "\n",
    "Example input and expected output:\n",
    "\n",
    "input = your_function(1, 5, 10)\n",
    "\n",
    "expected output:  10"
   ]
  },
  {
   "cell_type": "code",
   "execution_count": 51,
   "metadata": {},
   "outputs": [],
   "source": [
    "# Solve Problem 7 here:\n",
    "\n",
    "def your_function(a, b, c):\n",
    "    # Fill in your code below and return max value of a, b, c\n",
    "    \n",
    "    #thought process: find porential max, then compare once more for new max\n",
    "    if b > a: #det. max(a,b)\n",
    "        if b > c: #det. max(b,c) final comparison\n",
    "            return b \n",
    "        else:\n",
    "            return c \n",
    "    elif c > a: #det. max(a,c) final comparison\n",
    "        return c \n",
    "    else:\n",
    "        return a "
   ]
  },
  {
   "cell_type": "code",
   "execution_count": 44,
   "metadata": {},
   "outputs": [
    {
     "data": {
      "text/plain": [
       "10"
      ]
     },
     "execution_count": 44,
     "metadata": {},
     "output_type": "execute_result"
    }
   ],
   "source": [
    "# Test to see if your function works properly.\n",
    "your_function(1, 5, 10)"
   ]
  }
 ],
 "metadata": {
  "kernelspec": {
   "display_name": "Python 3 (ipykernel)",
   "language": "python",
   "name": "python3"
  },
  "language_info": {
   "codemirror_mode": {
    "name": "ipython",
    "version": 3
   },
   "file_extension": ".py",
   "mimetype": "text/x-python",
   "name": "python",
   "nbconvert_exporter": "python",
   "pygments_lexer": "ipython3",
   "version": "3.8.6"
  }
 },
 "nbformat": 4,
 "nbformat_minor": 4
}
